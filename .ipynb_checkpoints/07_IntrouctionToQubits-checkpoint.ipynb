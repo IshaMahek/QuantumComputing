{
 "cells": [
  {
   "cell_type": "markdown",
   "id": "b4dc54f5-42e6-40fe-a009-00e18498d3c8",
   "metadata": {},
   "source": [
    "# Introduction To Qubits"
   ]
  },
  {
   "cell_type": "code",
   "execution_count": 3,
   "id": "f6f5dce8-c6ce-4f87-a1e0-13e24f0dab41",
   "metadata": {},
   "outputs": [],
   "source": [
    "import numpy as np\n",
    "from qiskit.quantum_info import Statevector"
   ]
  },
  {
   "cell_type": "code",
   "execution_count": 9,
   "id": "a49fe3f8-9b50-4e30-89a0-e7c010af7e68",
   "metadata": {},
   "outputs": [
    {
     "data": {
      "text/latex": [
       "$$ |0\\rangle$$"
      ],
      "text/plain": [
       "<IPython.core.display.Latex object>"
      ]
     },
     "execution_count": 9,
     "metadata": {},
     "output_type": "execute_result"
    }
   ],
   "source": [
    "ket_0 = Statevector([1,0])\n",
    "ket_0.draw('latex')"
   ]
  },
  {
   "cell_type": "code",
   "execution_count": 7,
   "id": "715442d9-ea38-4766-8240-473216f95341",
   "metadata": {},
   "outputs": [
    {
     "data": {
      "text/plain": [
       "array([1., 0.])"
      ]
     },
     "execution_count": 7,
     "metadata": {},
     "output_type": "execute_result"
    }
   ],
   "source": [
    "ket_0.probabilities()"
   ]
  },
  {
   "cell_type": "code",
   "execution_count": 10,
   "id": "e2e49732-5f09-413f-aeba-59efbf48590d",
   "metadata": {},
   "outputs": [
    {
     "data": {
      "text/latex": [
       "$$\\frac{\\sqrt{2}}{2} |0\\rangle+\\frac{\\sqrt{2}}{2} |1\\rangle$$"
      ],
      "text/plain": [
       "<IPython.core.display.Latex object>"
      ]
     },
     "execution_count": 10,
     "metadata": {},
     "output_type": "execute_result"
    }
   ],
   "source": [
    "ket_p = Statevector([np.sqrt(1/2),np.sqrt(1/2)])\n",
    "ket_p.draw('latex')"
   ]
  },
  {
   "cell_type": "code",
   "execution_count": 11,
   "id": "778aba5f-9ae8-4fcb-8f12-07eec86901c7",
   "metadata": {},
   "outputs": [
    {
     "data": {
      "text/plain": [
       "array([0.5, 0.5])"
      ]
     },
     "execution_count": 11,
     "metadata": {},
     "output_type": "execute_result"
    }
   ],
   "source": [
    "ket_p.probabilities()"
   ]
  },
  {
   "cell_type": "code",
   "execution_count": 12,
   "id": "7742b9bc-9381-44e2-8da0-9ba143c8f056",
   "metadata": {},
   "outputs": [
    {
     "data": {
      "text/latex": [
       "$$\n",
       "\n",
       "\\begin{bmatrix}\n",
       "\\frac{\\sqrt{2}}{2} & \\frac{\\sqrt{2}}{2}  \\\\\n",
       " \\end{bmatrix}\n",
       "$$"
      ],
      "text/plain": [
       "<IPython.core.display.Latex object>"
      ]
     },
     "execution_count": 12,
     "metadata": {},
     "output_type": "execute_result"
    }
   ],
   "source": [
    "ket_p.draw('latex', convention='vector')"
   ]
  },
  {
   "cell_type": "code",
   "execution_count": 13,
   "id": "34423d19-ca9c-42cb-8ac7-70100174a32d",
   "metadata": {},
   "outputs": [
    {
     "data": {
      "text/latex": [
       "$$\\frac{\\sqrt{2}}{2} |0\\rangle- \\frac{\\sqrt{2}}{2} |1\\rangle$$"
      ],
      "text/plain": [
       "<IPython.core.display.Latex object>"
      ]
     },
     "execution_count": 13,
     "metadata": {},
     "output_type": "execute_result"
    }
   ],
   "source": [
    "ket_m = Statevector.from_label('-')\n",
    "ket_m.draw('latex')"
   ]
  },
  {
   "cell_type": "code",
   "execution_count": 14,
   "id": "20a4fc18-4028-41b3-85a2-5cb9d54da8fa",
   "metadata": {},
   "outputs": [
    {
     "data": {
      "text/plain": [
       "array([0.5, 0.5])"
      ]
     },
     "execution_count": 14,
     "metadata": {},
     "output_type": "execute_result"
    }
   ],
   "source": [
    "ket_m.probabilities()"
   ]
  },
  {
   "cell_type": "code",
   "execution_count": 19,
   "id": "43028184-1723-43e2-8d88-1170a6b89f4c",
   "metadata": {},
   "outputs": [
    {
     "data": {
      "text/plain": [
       "{np.str_('0'): np.int64(24), np.str_('1'): np.int64(26)}"
      ]
     },
     "execution_count": 19,
     "metadata": {},
     "output_type": "execute_result"
    }
   ],
   "source": [
    "ket_m.sample_counts(50)"
   ]
  },
  {
   "cell_type": "code",
   "execution_count": null,
   "id": "e02db03c-a15e-4be0-bf38-397893a42030",
   "metadata": {},
   "outputs": [],
   "source": []
  }
 ],
 "metadata": {
  "kernelspec": {
   "display_name": "Python (qc)",
   "language": "python",
   "name": "qc"
  },
  "language_info": {
   "codemirror_mode": {
    "name": "ipython",
    "version": 3
   },
   "file_extension": ".py",
   "mimetype": "text/x-python",
   "name": "python",
   "nbconvert_exporter": "python",
   "pygments_lexer": "ipython3",
   "version": "3.13.5"
  }
 },
 "nbformat": 4,
 "nbformat_minor": 5
}
